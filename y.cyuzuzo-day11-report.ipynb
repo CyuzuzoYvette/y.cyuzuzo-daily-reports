{
 "cells": [
  {
   "cell_type": "code",
   "execution_count": 4,
   "id": "9eb1295e",
   "metadata": {},
   "outputs": [
    {
     "name": "stdout",
     "output_type": "stream",
     "text": [
      "[ 1  2  3  4  5  6  7  8  9 10]\n"
     ]
    }
   ],
   "source": [
    "#Create a NumPy array of integers from 1 to 10.\n",
    "# Exercise 1\n",
    "import numpy as np\n",
    "\n",
    "a = np.arange(1,11)\n",
    "print(a)"
   ]
  },
  {
   "cell_type": "code",
   "execution_count": 7,
   "id": "23e2431c",
   "metadata": {},
   "outputs": [
    {
     "name": "stdout",
     "output_type": "stream",
     "text": [
      "[[0 0 0]\n",
      " [0 0 0]\n",
      " [0 0 0]]\n"
     ]
    }
   ],
   "source": [
    "#Create a 3x3 NumPy array filled with zeros.\n",
    "# Exercise 2\n",
    "\n",
    "b = np.arange(1,10).reshape((3,3))\n",
    "v = (0,0,0)\n",
    "print(b*v)"
   ]
  },
  {
   "cell_type": "code",
   "execution_count": 8,
   "id": "a12c29cc",
   "metadata": {
    "scrolled": true
   },
   "outputs": [
    {
     "name": "stdout",
     "output_type": "stream",
     "text": [
      "Help on built-in function zeros in module numpy:\n",
      "\n",
      "zeros(...)\n",
      "    zeros(shape, dtype=float, order='C')\n",
      "    \n",
      "    Return a new array of given shape and type, filled with zeros.\n",
      "    \n",
      "    Parameters\n",
      "    ----------\n",
      "    shape : int or tuple of ints\n",
      "        Shape of the new array, e.g., ``(2, 3)`` or ``2``.\n",
      "    dtype : data-type, optional\n",
      "        The desired data-type for the array, e.g., `numpy.int8`.  Default is\n",
      "        `numpy.float64`.\n",
      "    order : {'C', 'F'}, optional, default: 'C'\n",
      "        Whether to store multi-dimensional data in row-major\n",
      "        (C-style) or column-major (Fortran-style) order in\n",
      "        memory.\n",
      "    \n",
      "    Returns\n",
      "    -------\n",
      "    out : ndarray\n",
      "        Array of zeros with the given shape, dtype, and order.\n",
      "    \n",
      "    See Also\n",
      "    --------\n",
      "    zeros_like : Return an array of zeros with shape and type of input.\n",
      "    empty : Return a new uninitialized array.\n",
      "    ones : Return a new array setting values to one.\n",
      "    full : Return a new array of given shape filled with value.\n",
      "    \n",
      "    Examples\n",
      "    --------\n",
      "    >>> np.zeros(5)\n",
      "    array([ 0.,  0.,  0.,  0.,  0.])\n",
      "    \n",
      "    >>> np.zeros((5,), dtype=int)\n",
      "    array([0, 0, 0, 0, 0])\n",
      "    \n",
      "    >>> np.zeros((2, 1))\n",
      "    array([[ 0.],\n",
      "           [ 0.]])\n",
      "    \n",
      "    >>> s = (2,2)\n",
      "    >>> np.zeros(s)\n",
      "    array([[ 0.,  0.],\n",
      "           [ 0.,  0.]])\n",
      "    \n",
      "    >>> np.zeros((2,), dtype=[('x', 'i4'), ('y', 'i4')]) # custom dtype\n",
      "    array([(0, 0), (0, 0)],\n",
      "          dtype=[('x', '<i4'), ('y', '<i4')])\n",
      "\n"
     ]
    }
   ],
   "source": [
    "help(np.zeros)"
   ]
  },
  {
   "cell_type": "code",
   "execution_count": 24,
   "id": "6ee550a4",
   "metadata": {
    "scrolled": true
   },
   "outputs": [
    {
     "name": "stdout",
     "output_type": "stream",
     "text": [
      "[[0. 0. 0.]\n",
      " [0. 0. 0.]\n",
      " [0. 0. 0.]]\n"
     ]
    }
   ],
   "source": [
    "g = np.zeros(9).reshape(3,3)\n",
    "print(g)"
   ]
  },
  {
   "cell_type": "code",
   "execution_count": 27,
   "id": "68928261",
   "metadata": {},
   "outputs": [
    {
     "name": "stdout",
     "output_type": "stream",
     "text": [
      "[0.  0.5 1.  1.5 2.  2.5 3.  3.5 4.  4.5]\n"
     ]
    }
   ],
   "source": [
    "#Create a NumPy array of 10 evenly spaced numbers between 0 and 5.\n",
    "# Exercise 3\n",
    "\n",
    "c = np.linspace(0,5,10, endpoint= False)\n",
    "print(c)"
   ]
  },
  {
   "cell_type": "code",
   "execution_count": 29,
   "id": "0e9a7714",
   "metadata": {},
   "outputs": [
    {
     "name": "stdout",
     "output_type": "stream",
     "text": [
      "[[1. 0. 0. 0. 0.]\n",
      " [0. 1. 0. 0. 0.]\n",
      " [0. 0. 1. 0. 0.]\n",
      " [0. 0. 0. 1. 0.]\n",
      " [0. 0. 0. 0. 1.]]\n"
     ]
    }
   ],
   "source": [
    "#Create a 5x5 identity matrix using NumPy.\n",
    "# Exercise 4\n",
    "\n",
    "d = np.eye(5)\n",
    "print(d)"
   ]
  },
  {
   "cell_type": "code",
   "execution_count": 31,
   "id": "82f0f383",
   "metadata": {},
   "outputs": [
    {
     "data": {
      "text/plain": [
       "array([[0.79893564, 0.65071415, 0.99017769, 0.10460525],\n",
       "       [0.94453314, 0.65782262, 0.3309628 , 0.6193133 ],\n",
       "       [0.00468567, 0.19135893, 0.52648858, 0.81489059],\n",
       "       [0.66994833, 0.07812234, 0.38615024, 0.21814247]])"
      ]
     },
     "execution_count": 31,
     "metadata": {},
     "output_type": "execute_result"
    }
   ],
   "source": [
    "#Create a 4x4 matrix with random values between 0 and 1.\n",
    "# Exercise 5\n",
    "\n",
    "e = np.random.rand(4,4)\n",
    "e"
   ]
  },
  {
   "cell_type": "code",
   "execution_count": 33,
   "id": "da15b2b5",
   "metadata": {},
   "outputs": [
    {
     "name": "stdout",
     "output_type": "stream",
     "text": [
      "(4, 4)\n"
     ]
    }
   ],
   "source": [
    "#Exercise 6:\n",
    "#Find the shape of a NumPy array.\n",
    "# Exercise 6\n",
    "\n",
    "print(e.shape)"
   ]
  },
  {
   "cell_type": "code",
   "execution_count": 34,
   "id": "581cb94a",
   "metadata": {},
   "outputs": [],
   "source": [
    "np.random.seed(10)"
   ]
  },
  {
   "cell_type": "code",
   "execution_count": 35,
   "id": "8257b5a8",
   "metadata": {},
   "outputs": [
    {
     "data": {
      "text/plain": [
       "array([[0.77132064, 0.02075195, 0.63364823, 0.74880388],\n",
       "       [0.49850701, 0.22479665, 0.19806286, 0.76053071],\n",
       "       [0.16911084, 0.08833981, 0.68535982, 0.95339335],\n",
       "       [0.00394827, 0.51219226, 0.81262096, 0.61252607]])"
      ]
     },
     "execution_count": 35,
     "metadata": {},
     "output_type": "execute_result"
    }
   ],
   "source": [
    "e = np.random.rand(4,4)\n",
    "e"
   ]
  },
  {
   "cell_type": "code",
   "execution_count": 36,
   "id": "a4b85326",
   "metadata": {},
   "outputs": [],
   "source": [
    "np.random.seed(0)"
   ]
  },
  {
   "cell_type": "code",
   "execution_count": 37,
   "id": "44b878b3",
   "metadata": {},
   "outputs": [
    {
     "data": {
      "text/plain": [
       "array([[0.5488135 , 0.71518937, 0.60276338, 0.54488318],\n",
       "       [0.4236548 , 0.64589411, 0.43758721, 0.891773  ],\n",
       "       [0.96366276, 0.38344152, 0.79172504, 0.52889492],\n",
       "       [0.56804456, 0.92559664, 0.07103606, 0.0871293 ]])"
      ]
     },
     "execution_count": 37,
     "metadata": {},
     "output_type": "execute_result"
    }
   ],
   "source": [
    "e = np.random.rand(4,4)\n",
    "e"
   ]
  },
  {
   "cell_type": "code",
   "execution_count": 38,
   "id": "1822e9ae",
   "metadata": {},
   "outputs": [
    {
     "data": {
      "text/plain": [
       "array([ 0,  1,  2,  3,  4,  5,  6,  7,  8,  9, 10, 11, 12, 13, 14, 15])"
      ]
     },
     "execution_count": 38,
     "metadata": {},
     "output_type": "execute_result"
    }
   ],
   "source": [
    "#Exercise 7:\n",
    "#Reshape a 1D NumPy array of 16 elements into a 4x4 matrix.\n",
    "# Exercise 7\n",
    "\n",
    "A = np.arange(16)\n",
    "A"
   ]
  },
  {
   "cell_type": "code",
   "execution_count": 39,
   "id": "f70a25b7",
   "metadata": {},
   "outputs": [
    {
     "data": {
      "text/plain": [
       "array([[ 0,  1,  2,  3],\n",
       "       [ 4,  5,  6,  7],\n",
       "       [ 8,  9, 10, 11],\n",
       "       [12, 13, 14, 15]])"
      ]
     },
     "execution_count": 39,
     "metadata": {},
     "output_type": "execute_result"
    }
   ],
   "source": [
    "A.reshape((4,4))"
   ]
  },
  {
   "cell_type": "code",
   "execution_count": 40,
   "id": "6206f32f",
   "metadata": {},
   "outputs": [
    {
     "data": {
      "text/plain": [
       "dtype('int64')"
      ]
     },
     "execution_count": 40,
     "metadata": {},
     "output_type": "execute_result"
    }
   ],
   "source": [
    "#Exercise 8:\n",
    "#Find the data type of the elements in a NumPy array.\n",
    "# Exercise 8\n",
    "\n",
    "A.dtype"
   ]
  },
  {
   "cell_type": "code",
   "execution_count": 45,
   "id": "47df6631",
   "metadata": {},
   "outputs": [
    {
     "data": {
      "text/plain": [
       "array([  0,   2,   4,   6,   8,  10,  12,  14,  16,  18,  20,  22,  24,\n",
       "        26,  28,  30,  32,  34,  36,  38,  40,  42,  44,  46,  48,  50,\n",
       "        52,  54,  56,  58,  60,  62,  64,  66,  68,  70,  72,  74,  76,\n",
       "        78,  80,  82,  84,  86,  88,  90,  92,  94,  96,  98, 100])"
      ]
     },
     "execution_count": 45,
     "metadata": {},
     "output_type": "execute_result"
    }
   ],
   "source": [
    "#Exercise 9:\n",
    "#Create a NumPy array of integers from 1 to 100 and find all even numbers in the array.\n",
    "# Exercise 9\n",
    "\n",
    "A = np.arange(0,101,2)\n",
    "A"
   ]
  },
  {
   "cell_type": "code",
   "execution_count": 48,
   "id": "9e861d61",
   "metadata": {},
   "outputs": [
    {
     "data": {
      "text/plain": [
       "array([[26, 15, 25, 10, 28, 45],\n",
       "       [34, 39, 29, 29, 24, 49],\n",
       "       [42, 11, 19, 42, 41, 20],\n",
       "       [33, 45, 21, 38, 44, 10],\n",
       "       [10, 46, 15, 48, 27, 25],\n",
       "       [14, 41, 11, 11, 49, 45]])"
      ]
     },
     "execution_count": 48,
     "metadata": {},
     "output_type": "execute_result"
    }
   ],
   "source": [
    "#Exercise 10:\n",
    "#Generate a 6x6 matrix of random integers between 10 and 50.\n",
    "# Exercise 10\n",
    "\n",
    "A = np.random.randint(10,50,(6,6))\n",
    "A"
   ]
  },
  {
   "cell_type": "code",
   "execution_count": 70,
   "id": "a9760fe9",
   "metadata": {},
   "outputs": [
    {
     "name": "stdout",
     "output_type": "stream",
     "text": [
      "[[3 6 9 8]\n",
      " [0 8 5 9]\n",
      " [0 9 6 5]]\n"
     ]
    },
    {
     "data": {
      "text/plain": [
       "array([[3, 6],\n",
       "       [0, 8]])"
      ]
     },
     "execution_count": 70,
     "metadata": {},
     "output_type": "execute_result"
    }
   ],
   "source": [
    "#Slice a 2D NumPy array to extract a submatrix.\n",
    "# Exercise 11\n",
    "\n",
    "p = np.random.randint(10, size=(3, 4))\n",
    "print(p)\n",
    "submatrix = p[0:2, 0:2]\n",
    "submatrix"
   ]
  },
  {
   "cell_type": "code",
   "execution_count": 57,
   "id": "237c9913",
   "metadata": {},
   "outputs": [
    {
     "name": "stdout",
     "output_type": "stream",
     "text": [
      "[0 1 2 3 4 5 6 7 8 9]\n",
      "45\n"
     ]
    }
   ],
   "source": [
    "#Calculate the sum of all elements in a NumPy array.\n",
    "# Exercise 12\n",
    "\n",
    "f = np.arange(10)\n",
    "print(f)\n",
    "print(np.sum(f))"
   ]
  },
  {
   "cell_type": "code",
   "execution_count": 60,
   "id": "40978453",
   "metadata": {},
   "outputs": [
    {
     "name": "stdout",
     "output_type": "stream",
     "text": [
      "4.5\n"
     ]
    }
   ],
   "source": [
    "#Calculate the mean, median, and standard deviation of a NumPy array.\n",
    "# Exercise 13\n",
    "\n",
    "print(np.mean(f))"
   ]
  },
  {
   "cell_type": "code",
   "execution_count": 62,
   "id": "27f74a70",
   "metadata": {
    "scrolled": true
   },
   "outputs": [
    {
     "name": "stdout",
     "output_type": "stream",
     "text": [
      "4.5\n"
     ]
    }
   ],
   "source": [
    "print(np.median(f))"
   ]
  },
  {
   "cell_type": "code",
   "execution_count": 66,
   "id": "f1861e73",
   "metadata": {
    "scrolled": false
   },
   "outputs": [
    {
     "name": "stdout",
     "output_type": "stream",
     "text": [
      "2.8722813232690143\n"
     ]
    }
   ],
   "source": [
    "print(np.std(f))"
   ]
  },
  {
   "cell_type": "code",
   "execution_count": 67,
   "id": "8d37cfd7",
   "metadata": {},
   "outputs": [
    {
     "name": "stdout",
     "output_type": "stream",
     "text": [
      "9\n"
     ]
    }
   ],
   "source": [
    "#Find the maximum and minimum values in a NumPy array.\n",
    "# Exercise 14\n",
    "\n",
    "print(np.max(f))"
   ]
  },
  {
   "cell_type": "code",
   "execution_count": 68,
   "id": "aef53f18",
   "metadata": {},
   "outputs": [
    {
     "name": "stdout",
     "output_type": "stream",
     "text": [
      "0\n"
     ]
    }
   ],
   "source": [
    "print(np.min(f))"
   ]
  },
  {
   "cell_type": "code",
   "execution_count": 91,
   "id": "0fccb647",
   "metadata": {},
   "outputs": [
    {
     "name": "stdout",
     "output_type": "stream",
     "text": [
      "[[17  4 11  2  5]\n",
      " [ 5 17 17 16 11]\n",
      " [14  9 12  7 10]\n",
      " [16  4 20 13 19]\n",
      " [18 11  3  2 12]]\n",
      "17\n"
     ]
    }
   ],
   "source": [
    "#Create a NumPy array of 20 random integers and find the index of the maximum value.\n",
    "# Exercise 15\n",
    "\n",
    "h = np.random.randint(1,21,(5,5))\n",
    "print(h)\n",
    "print(np.argmax(h))"
   ]
  },
  {
   "cell_type": "code",
   "execution_count": 92,
   "id": "26dadf95",
   "metadata": {},
   "outputs": [
    {
     "name": "stdout",
     "output_type": "stream",
     "text": [
      "[[12  2  3 11 18]\n",
      " [19 13 20  4 16]\n",
      " [10  7 12  9 14]\n",
      " [11 16 17 17  5]\n",
      " [ 5  2 11  4 17]]\n"
     ]
    }
   ],
   "source": [
    "#Create a NumPy array and reverse its elements.\n",
    "# Exercise 16\n",
    "\n",
    "print(np.flip(h))"
   ]
  },
  {
   "cell_type": "code",
   "execution_count": 5,
   "id": "bfb0c587",
   "metadata": {
    "scrolled": true
   },
   "outputs": [
    {
     "name": "stdout",
     "output_type": "stream",
     "text": [
      "[[0 1 2]\n",
      " [3 4 5]\n",
      " [6 7 8]]\n",
      "\n",
      "\n",
      "[[0 1 2]\n",
      " [3 4 5]\n",
      " [6 7 8]]\n",
      "\n",
      "\n",
      "[[ 0  1  4]\n",
      " [ 9 16 25]\n",
      " [36 49 64]]\n"
     ]
    }
   ],
   "source": [
    "#Create a 3x3 matrix and multiply it element-wise by another 3x3 matrix.\n",
    "# Exercise 17\n",
    "\n",
    "k = np.arange(9).reshape(3,3)\n",
    "print(k)\n",
    "print(\"\\n\")\n",
    "i = np.arange(9).reshape(3,3)\n",
    "print(i)\n",
    "print(\"\\n\")\n",
    "print(k*i)"
   ]
  },
  {
   "cell_type": "code",
   "execution_count": 101,
   "id": "d83f994e",
   "metadata": {},
   "outputs": [
    {
     "data": {
      "text/plain": [
       "array([[1., 0.],\n",
       "       [0., 1.]])"
      ]
     },
     "execution_count": 101,
     "metadata": {},
     "output_type": "execute_result"
    }
   ],
   "source": [
    "#Create a diagonal matrix from a given 1D array.\n",
    "# Exercise 18\n",
    "\n",
    "l = np.eye(2)\n",
    "l"
   ]
  },
  {
   "cell_type": "code",
   "execution_count": 9,
   "id": "929d8a7b",
   "metadata": {},
   "outputs": [
    {
     "name": "stdout",
     "output_type": "stream",
     "text": [
      "[[ 0  1  2  3]\n",
      " [ 4  5  6  7]\n",
      " [ 8  9 10 11]]\n",
      "\n",
      "\n",
      "[[ 0  1  2  3]\n",
      " [ 4  5  6  7]\n",
      " [ 8  9 10 11]]\n",
      "\n",
      "\n",
      "[[  0   1   4   9]\n",
      " [ 16  25  36  49]\n",
      " [ 64  81 100 121]]\n"
     ]
    }
   ],
   "source": [
    "#Perform matrix multiplication on two 2D NumPy arrays.\n",
    "# Exercise 19\n",
    "\n",
    "w = np.arange(12).reshape(3,4)\n",
    "print(w)\n",
    "print(\"\\n\")\n",
    "q = np.arange(12).reshape(3,4)\n",
    "print(q)\n",
    "print(\"\\n\")\n",
    "print(w*q)"
   ]
  },
  {
   "cell_type": "code",
   "execution_count": 106,
   "id": "e6357502",
   "metadata": {},
   "outputs": [
    {
     "name": "stdout",
     "output_type": "stream",
     "text": [
      "[ 0  1  2  3  4  5  6  7  8  9 10 11]\n"
     ]
    }
   ],
   "source": [
    "#Flatten a 2D NumPy array into a 1D array.\n",
    "# Exercise 20\n",
    "\n",
    "print(k.flatten())"
   ]
  },
  {
   "cell_type": "code",
   "execution_count": 15,
   "id": "81608e8d",
   "metadata": {
    "scrolled": false
   },
   "outputs": [
    {
     "name": "stdout",
     "output_type": "stream",
     "text": [
      "Array 1:\n",
      "[[1 2]\n",
      " [3 4]]\n",
      "\n",
      "Array 2:\n",
      "[[5 6]\n",
      " [7 8]]\n",
      "\n",
      "\n",
      "[[1 2]\n",
      " [3 4]\n",
      " [5 6]\n",
      " [7 8]]\n"
     ]
    }
   ],
   "source": [
    "#Stack two NumPy arrays vertically.\n",
    "# Exercise 21\n",
    "\n",
    "array1 = np.array([[1, 2], [3, 4]])\n",
    "array2 = np.array([[5, 6], [7, 8]])\n",
    "\n",
    "\n",
    "result_vstack = np.vstack((array1, array2))\n",
    "\n",
    "print(\"Array 1:\")\n",
    "print(array1)\n",
    "print(\"\\nArray 2:\")\n",
    "print(array2)\n",
    "print(\"\\n\")\n",
    "print(result_vstack)"
   ]
  },
  {
   "cell_type": "code",
   "execution_count": 16,
   "id": "5d318494",
   "metadata": {},
   "outputs": [
    {
     "name": "stdout",
     "output_type": "stream",
     "text": [
      "[[1 2 5 6]\n",
      " [3 4 7 8]]\n"
     ]
    }
   ],
   "source": [
    "#Stack two NumPy arrays horizontally.\n",
    "# Exercise 22\n",
    "\n",
    "result_hstack = np.hstack((array1, array2))\n",
    "print(result_hstack)"
   ]
  },
  {
   "cell_type": "code",
   "execution_count": 19,
   "id": "c6005ad9",
   "metadata": {},
   "outputs": [
    {
     "name": "stdout",
     "output_type": "stream",
     "text": [
      "[array([0, 1, 2]), array([3, 4, 5]), array([6, 7, 8])]\n"
     ]
    }
   ],
   "source": [
    "#Split a NumPy array into multiple sub-arrays.\n",
    "# Exercise 23\n",
    "\n",
    "array = np.arange(9)  \n",
    "print(np.array_split(array, 3))"
   ]
  },
  {
   "cell_type": "code",
   "execution_count": 20,
   "id": "cc8d3785",
   "metadata": {},
   "outputs": [
    {
     "name": "stdout",
     "output_type": "stream",
     "text": [
      "[[0.66 0.79 0.31 0.32 0.75]\n",
      " [0.56 0.51 0.25 0.27 0.46]\n",
      " [0.11 0.37 0.85 0.26 0.13]\n",
      " [0.53 0.47 0.82 0.68 0.52]\n",
      " [0.39 0.33 0.46 0.99 0.61]]\n"
     ]
    }
   ],
   "source": [
    "#Generate a random NumPy array and round each element to two decimal places.\n",
    "# Exercise 24\n",
    "\n",
    "array = np.round(np.random.rand(5, 5), 2)\n",
    "print(array)"
   ]
  },
  {
   "cell_type": "code",
   "execution_count": 21,
   "id": "9a372be7",
   "metadata": {},
   "outputs": [
    {
     "name": "stdout",
     "output_type": "stream",
     "text": [
      "[1 2 3 4 5]\n"
     ]
    }
   ],
   "source": [
    "#Find the unique elements of a NumPy array.\n",
    "# Exercise 25\n",
    "\n",
    "y = np.array([1, 2, 2, 3, 4, 4, 5]) \n",
    "print(np.unique(y))"
   ]
  },
  {
   "cell_type": "code",
   "execution_count": 24,
   "id": "92f70092",
   "metadata": {},
   "outputs": [
    {
     "name": "stdout",
     "output_type": "stream",
     "text": [
      "[5 5 5 5 4 4 5]\n"
     ]
    }
   ],
   "source": [
    "#Replace all elements in a NumPy array that are less than a specific value with that value.\n",
    "# Exercise 26\n",
    "\n",
    "y[ y < 4 ] = 5\n",
    "print(y)"
   ]
  },
  {
   "cell_type": "code",
   "execution_count": 25,
   "id": "b67ba40e",
   "metadata": {},
   "outputs": [
    {
     "name": "stdout",
     "output_type": "stream",
     "text": [
      "[ 5 10 15 20 24 28 33]\n"
     ]
    }
   ],
   "source": [
    "#Find the cumulative sum of the elements in a NumPy array.\n",
    "# Exercise 27\n",
    "\n",
    "print(np.cumsum(y))"
   ]
  },
  {
   "cell_type": "code",
   "execution_count": 26,
   "id": "c664433f",
   "metadata": {},
   "outputs": [
    {
     "name": "stdout",
     "output_type": "stream",
     "text": [
      "4\n"
     ]
    }
   ],
   "source": [
    "#Create a NumPy array and find the number of non-zero elements in it.\n",
    "# Exercise 28\n",
    "\n",
    "z = np.array([0, 1, 2, 0, 3, 4, 0])\n",
    "print(np.count_nonzero(z))"
   ]
  },
  {
   "cell_type": "code",
   "execution_count": 33,
   "id": "170d7caf",
   "metadata": {},
   "outputs": [
    {
     "name": "stdout",
     "output_type": "stream",
     "text": [
      "[2 5 5 5 8 4 6]\n",
      "\n",
      "\n",
      "[2 4 5 5 5 6 8]\n"
     ]
    }
   ],
   "source": [
    "#Create a NumPy array of random integers and sort it in ascending order.\n",
    "# Exercise 29\n",
    "\n",
    "r = np.random.randint(1,9, size = 7)\n",
    "print(r)\n",
    "print(\"\\n\")\n",
    "print(np.sort(r))\n"
   ]
  },
  {
   "cell_type": "code",
   "execution_count": 41,
   "id": "c19d7c4a",
   "metadata": {},
   "outputs": [
    {
     "name": "stdout",
     "output_type": "stream",
     "text": [
      "Row-wise sum: [ 6 15 24]\n",
      "Column-wise sum: [12 15 18]\n"
     ]
    }
   ],
   "source": [
    "#Find the row-wise and column-wise sum of a 3x3 matrix.\n",
    "# Exercise 30\n",
    "\n",
    "matrix = np.array([[1, 2, 3],\n",
    "                   [4, 5, 6],\n",
    "                   [7, 8, 9]])\n",
    "row_wise_sum = np.sum(matrix, axis=1)\n",
    "\n",
    "column_wise_sum = np.sum(matrix, axis=0)\n",
    "\n",
    "print(\"Row-wise sum:\", row_wise_sum)\n",
    "print(\"Column-wise sum:\", column_wise_sum)"
   ]
  },
  {
   "cell_type": "code",
   "execution_count": 35,
   "id": "c7361d3a",
   "metadata": {},
   "outputs": [
    {
     "name": "stdout",
     "output_type": "stream",
     "text": [
      "Original Matrix:\n",
      " [[1 2 3]\n",
      " [4 5 6]\n",
      " [7 8 9]]\n",
      "\n",
      "Normalized Matrix:\n",
      " [[ 1.22663978  2.53181035  3.83698092]\n",
      " [ 5.14215148  6.44732205  7.75249261]\n",
      " [ 9.05766318 10.36283374 11.66800431]]\n"
     ]
    }
   ],
   "source": [
    "#Generate a 2D NumPy array with random values and normalize it (scale the values between 0 and 1).\n",
    "# Exercise 31\n",
    "\n",
    "\n",
    "# Generate a 2D NumPy array with random values (for example, a 3x3 matrix)\n",
    "x = np.random.rand(3, 3)\n",
    "\n",
    "matrix_min = x.min()\n",
    "matrix_max = x.max()\n",
    "\n",
    "normalized_matrix = (matrix - matrix_min) / (matrix_max - matrix_min)\n",
    "\n",
    "print(\"Original Matrix:\\n\", matrix)\n",
    "print(\"\\nNormalized Matrix:\\n\", normalized_matrix)\n"
   ]
  },
  {
   "cell_type": "code",
   "execution_count": 40,
   "id": "cacf19e1",
   "metadata": {
    "scrolled": true
   },
   "outputs": [
    {
     "name": "stdout",
     "output_type": "stream",
     "text": [
      "32\n"
     ]
    }
   ],
   "source": [
    "#Create two NumPy arrays and find the dot product.\n",
    "# Exercise 32\n",
    "\n",
    "a1 = np.array([1, 2, 3])\n",
    "a2 = np.array([4, 5, 6])\n",
    "\n",
    "print(np.dot(a1, a2))\n"
   ]
  },
  {
   "cell_type": "code",
   "execution_count": 42,
   "id": "6a254b31",
   "metadata": {},
   "outputs": [
    {
     "name": "stdout",
     "output_type": "stream",
     "text": [
      "15\n"
     ]
    }
   ],
   "source": [
    "#Find the trace of a square NumPy matrix.\n",
    "# Exercise 33\n",
    "\n",
    "print(np.trace(matrix))\n"
   ]
  },
  {
   "cell_type": "code",
   "execution_count": 46,
   "id": "30ee5b33",
   "metadata": {},
   "outputs": [
    {
     "name": "stdout",
     "output_type": "stream",
     "text": [
      "[[1 2 3]\n",
      " [4 5 6]\n",
      " [7 8 9]]\n",
      "\n",
      "\n",
      "[[7 8 9]\n",
      " [4 5 6]\n",
      " [1 2 3]]\n"
     ]
    }
   ],
   "source": [
    "#Create a 2D array and swap two rows.\n",
    "# Exercise 34\n",
    "\n",
    "array = np.array([[1, 2, 3],\n",
    "                  [4, 5, 6],\n",
    "                  [7, 8, 9]])\n",
    "print(array)\n",
    "array[[0, 2]] = array[[2, 0]]\n",
    "print(\"\\n\")\n",
    "print(array)"
   ]
  },
  {
   "cell_type": "code",
   "execution_count": 44,
   "id": "b57f0ab9",
   "metadata": {},
   "outputs": [
    {
     "name": "stdout",
     "output_type": "stream",
     "text": [
      "[[1]\n",
      " [2]\n",
      " [3]\n",
      " [4]\n",
      " [5]]\n"
     ]
    }
   ],
   "source": [
    "#Create a 1D NumPy array and convert it into a column vector.\n",
    "# Exercise 35\n",
    "\n",
    "array = np.array([1, 2, 3, 4, 5])\n",
    "\n",
    "column_vector = array.reshape(-1, 1)\n",
    "print(column_vector)"
   ]
  },
  {
   "cell_type": "code",
   "execution_count": 51,
   "id": "d3e6e841",
   "metadata": {},
   "outputs": [
    {
     "name": "stdout",
     "output_type": "stream",
     "text": [
      "[1 2 3 4 5]\n",
      "-3.0000000000000018\n"
     ]
    }
   ],
   "source": [
    "#Find the determinant of a 3x3 matrix.\n",
    "# Exercise 36\n",
    "\n",
    "array5 = np.array([[2, 2, 3],\n",
    "                  [4, 5, 6],\n",
    "                  [7, 8, 9]])\n",
    "print(array)\n",
    "print(np.linalg.det(array5))"
   ]
  },
  {
   "cell_type": "code",
   "execution_count": 53,
   "id": "2ec6875e",
   "metadata": {},
   "outputs": [
    {
     "name": "stdout",
     "output_type": "stream",
     "text": [
      "(array([16.23499933,  0.32813711, -0.56313644]), array([[-0.24549726, -0.71374819, -0.5504281 ],\n",
      "       [-0.52322258,  0.69718768, -0.39659509],\n",
      "       [-0.81606938, -0.06702875,  0.73467084]]))\n"
     ]
    }
   ],
   "source": [
    "#Find the eigenvalues and eigenvectors of a 2x2 matrix.\n",
    "# Exercise 37\n",
    "\n",
    "print(np.linalg.eig(array5))"
   ]
  },
  {
   "cell_type": "code",
   "execution_count": 56,
   "id": "77b97746",
   "metadata": {},
   "outputs": [
    {
     "name": "stdout",
     "output_type": "stream",
     "text": [
      "[[ 0  1  2  3]\n",
      " [ 4  5  6  7]\n",
      " [ 8  9 10 11]\n",
      " [12 13 14 15]]\n",
      "\n",
      "\n",
      "[ 0  5 10 15]\n"
     ]
    }
   ],
   "source": [
    "#Create a 4x4 matrix and extract the diagonal elements.\n",
    "# Exercise 40\n",
    "\n",
    "o = np.arange(16).reshape(4,4)\n",
    "print(o)\n",
    "print(\"\\n\")\n",
    "print(np.diag(o))"
   ]
  },
  {
   "cell_type": "code",
   "execution_count": null,
   "id": "3759f21e",
   "metadata": {},
   "outputs": [],
   "source": []
  }
 ],
 "metadata": {
  "kernelspec": {
   "display_name": "Python 3",
   "language": "python",
   "name": "python3"
  },
  "language_info": {
   "codemirror_mode": {
    "name": "ipython",
    "version": 3
   },
   "file_extension": ".py",
   "mimetype": "text/x-python",
   "name": "python",
   "nbconvert_exporter": "python",
   "pygments_lexer": "ipython3",
   "version": "3.9.2"
  }
 },
 "nbformat": 4,
 "nbformat_minor": 5
}
