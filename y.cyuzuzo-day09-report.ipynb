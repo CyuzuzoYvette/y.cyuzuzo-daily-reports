{
 "cells": [
  {
   "cell_type": "code",
   "execution_count": 6,
   "id": "97415005",
   "metadata": {},
   "outputs": [
    {
     "name": "stdout",
     "output_type": "stream",
     "text": [
      "enter value of a: 3\n",
      "enter value of b: 7\n",
      "7 is maximum\n"
     ]
    }
   ],
   "source": [
    "#Create a function find_max() that accepts two numeric inputs and returns the greater value. Avoid using the built-in max() function.\n",
    "\n",
    "def find_max(a,b):\n",
    "    if a>b:\n",
    "        print(f\"{a} is maximum\")\n",
    "    elif b>a:\n",
    "        print(f\"{b} is maximum\")\n",
    "    else:\n",
    "        print(f\"numbers are equal\")\n",
    "c = int(input(\"enter value of a: \"))\n",
    "d = int(input(\"enter value of b: \"))\n",
    "find_max(c,d)\n",
    "    "
   ]
  },
  {
   "cell_type": "code",
   "execution_count": 3,
   "id": "3385027a",
   "metadata": {},
   "outputs": [
    {
     "name": "stdout",
     "output_type": "stream",
     "text": [
      "6 is maximum value\n"
     ]
    }
   ],
   "source": [
    "#Develop a function find_max_of_three() to find the maximum among three given numbers.\n",
    "\n",
    "def find_max_of_three():\n",
    "    a = 1\n",
    "    b = 6\n",
    "    c = 3\n",
    "    if a>b and a>c:\n",
    "        print(a,\"is maximum value\")\n",
    "    elif b>a and b>c:\n",
    "        print(b,\"is maximum value\")\n",
    "    elif c>a and c>b:\n",
    "        print(c,\"is maximum value\")\n",
    "    else:\n",
    "        print(\"you are out of topic\")\n",
    "        \n",
    "find_max_of_three()"
   ]
  },
  {
   "cell_type": "code",
   "execution_count": 1,
   "id": "d75f13c9",
   "metadata": {},
   "outputs": [
    {
     "name": "stdout",
     "output_type": "stream",
     "text": [
      "Length of the list: 5\n"
     ]
    }
   ],
   "source": [
    "#Write a function to manually calculate the length of a given list or string without using len().\n",
    "\n",
    "def length_list(li):\n",
    "    count = 0\n",
    "    for item in li:\n",
    "        count += 1\n",
    "    return count\n",
    "\n",
    "li = [1, 3, 4, 8, 5]\n",
    "print(\"Length of the list:\", length_list(li))\n"
   ]
  },
  {
   "cell_type": "code",
   "execution_count": 26,
   "id": "deaa77d0",
   "metadata": {},
   "outputs": [
    {
     "name": "stdout",
     "output_type": "stream",
     "text": [
      "Enter any character: r\n",
      "entered character is not vowel\n"
     ]
    }
   ],
   "source": [
    "#Implement a function that checks if a given character is a vowel (a, e, i, o, u).\n",
    "\n",
    "def vowel(chara):\n",
    "    if chara in ['a', 'e', 'i', 'o', 'u', 'A', 'E', 'I', 'O', 'U']:\n",
    "       print(\"entered character is vowel\")\n",
    "    else:\n",
    "        print(\"entered character is not vowel\") \n",
    "cha = input(\"Enter any character: \")\n",
    "vowel(cha)\n",
    "    "
   ]
  },
  {
   "cell_type": "code",
   "execution_count": 23,
   "id": "6af39b15",
   "metadata": {},
   "outputs": [
    {
     "name": "stdout",
     "output_type": "stream",
     "text": [
      "Sum of elements: 10\n"
     ]
    }
   ],
   "source": [
    "#Create sum_elements() and product_elements() functions to sum and multiply all elements in a list, respectively.\n",
    "\n",
    "def summation(n):\n",
    "    total = 0  \n",
    "    for i in n:  \n",
    "        total += i \n",
    "    return total\n",
    "my_list = [1, 2, 3, 4]\n",
    "print(\"Sum of elements:\", summation(my_list))"
   ]
  },
  {
   "cell_type": "code",
   "execution_count": 22,
   "id": "7d59855a",
   "metadata": {},
   "outputs": [
    {
     "name": "stdout",
     "output_type": "stream",
     "text": [
      "Product of elements: 24\n"
     ]
    }
   ],
   "source": [
    "#for product\n",
    "\n",
    "def pro(n):\n",
    "    product = 1 \n",
    "    for i in n:  \n",
    "        product *= i  \n",
    "    return product  \n",
    "my_list = [1, 2, 3, 4]\n",
    "print(\"Product of elements:\", pro(my_list))"
   ]
  },
  {
   "cell_type": "code",
   "execution_count": 13,
   "id": "50c7b0c4",
   "metadata": {},
   "outputs": [
    {
     "name": "stdout",
     "output_type": "stream",
     "text": [
      "enter any string: Cyuzuzo\n",
      "the reversed string:  ozuzuyC\n"
     ]
    }
   ],
   "source": [
    "#Define a function reverse_string() to reverse the characters in a given string.\n",
    "\n",
    "def reverse_string(s):\n",
    "    return s[::-1]\n",
    "a = input(\"enter any string: \")\n",
    "reversed_string = reverse_string(a)\n",
    "print(\"the reversed string: \", reversed_string)\n"
   ]
  },
  {
   "cell_type": "code",
   "execution_count": 19,
   "id": "d3a925d2",
   "metadata": {},
   "outputs": [
    {
     "name": "stdout",
     "output_type": "stream",
     "text": [
      "The longest word is: strawberry\n"
     ]
    }
   ],
   "source": [
    "#Implement longest_word() to find the longest word in a list.\n",
    "\n",
    "def longest_word(li):\n",
    "    longest = \"\" \n",
    "\n",
    "    for i in li:  \n",
    "        if len(i) > len(longest): \n",
    "            longest = i \n",
    "    return longest \n",
    "li_list = [\"apple\", \"banana\", \"strawberry\", \"cherry\"]\n",
    "print(\"The longest word is:\", longest_word(li_list))"
   ]
  },
  {
   "cell_type": "code",
   "execution_count": 15,
   "id": "d6b2a2f6",
   "metadata": {},
   "outputs": [
    {
     "name": "stdout",
     "output_type": "stream",
     "text": [
      "ccccc\n"
     ]
    }
   ],
   "source": [
    "#Implement repeat_char() that generates a string with a specified character repeated n times.\n",
    "\n",
    "def repeat_char(char, n):\n",
    "    result = \"\"  \n",
    "    for i in range(n):  \n",
    "        result += char  \n",
    "    return result \n",
    "print(repeat_char('c', 5))"
   ]
  },
  {
   "cell_type": "code",
   "execution_count": 16,
   "id": "9c17def1",
   "metadata": {},
   "outputs": [
    {
     "name": "stdout",
     "output_type": "stream",
     "text": [
      "largest number is: 4\n"
     ]
    }
   ],
   "source": [
    "#Write find_max_in_list() to identify the largest number in a list of arbitrary length.\n",
    "\n",
    "def find_max_in_list(li):\n",
    "    largest = li[0]\n",
    "    for i in li:\n",
    "        if i > largest:\n",
    "            largest=i\n",
    "    return largest\n",
    "my_list = [1, 2, 3, 4]         \n",
    "print(\"largest number is:\", find_max_in_list(my_list))"
   ]
  },
  {
   "cell_type": "code",
   "execution_count": 19,
   "id": "8c21610e",
   "metadata": {},
   "outputs": [
    {
     "name": "stdout",
     "output_type": "stream",
     "text": [
      "2002,2009,2016,2023,2037,2044,2051,2058,2072,2079,2086,2093,2107,2114,2121,2128,2142,2149,2156,2163,2177,2184,2191,2198,2212,2219,2226,2233,2247,2254,2261,2268,2282,2289,2296,2303,2317,2324,2331,2338,2352,2359,2366,2373,2387,2394,2401,2408,2422,2429,2436,2443,2457,2464,2471,2478,2492,2499,2506,2513,2527,2534,2541,2548,2562,2569,2576,2583,2597,2604,2611,2618,2632,2639,2646,2653,2667,2674,2681,2688,2702,2709,2716,2723,2737,2744,2751,2758,2772,2779,2786,2793,2807,2814,2821,2828,2842,2849,2856,2863,2877,2884,2891,2898,2912,2919,2926,2933,2947,2954,2961,2968,2982,2989,2996,3003,3017,3024,3031,3038,3052,3059,3066,3073,3087,3094,3101,3108,3122,3129,3136,3143,3157,3164,3171,3178,3192,3199\n"
     ]
    }
   ],
   "source": [
    "#Task1:\n",
    "#Develop a program to find all numbers between 2000 and 3200 (inclusive) that are divisible by 7 but not multiples of 5. Display these numbers as a single line of output, separated by commas.):\n",
    "    \n",
    "def numberss():\n",
    "   \n",
    "    numbers = [i for i in range(2000, 3201) if i % 7 == 0 and i % 5 != 0]\n",
    "    print(\",\".join(map(str, numbers)))\n",
    "numberss()"
   ]
  },
  {
   "cell_type": "code",
   "execution_count": null,
   "id": "0ed8b2b2",
   "metadata": {},
   "outputs": [],
   "source": []
  }
 ],
 "metadata": {
  "kernelspec": {
   "display_name": "Python 3",
   "language": "python",
   "name": "python3"
  },
  "language_info": {
   "codemirror_mode": {
    "name": "ipython",
    "version": 3
   },
   "file_extension": ".py",
   "mimetype": "text/x-python",
   "name": "python",
   "nbconvert_exporter": "python",
   "pygments_lexer": "ipython3",
   "version": "3.9.2"
  }
 },
 "nbformat": 4,
 "nbformat_minor": 5
}
