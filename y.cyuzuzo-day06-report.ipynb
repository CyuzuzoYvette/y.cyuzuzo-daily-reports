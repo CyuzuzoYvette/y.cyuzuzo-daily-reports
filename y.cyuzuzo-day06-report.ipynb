{
 "cells": [
  {
   "cell_type": "code",
   "execution_count": 3,
   "id": "67ef177f",
   "metadata": {},
   "outputs": [
    {
     "name": "stdout",
     "output_type": "stream",
     "text": [
      "Enter a value for n: 5\n",
      "Sum: 10\n"
     ]
    }
   ],
   "source": [
    "#1. Compute the following expressions for a natural number n chosen by the user:\n",
    "\n",
    "n = int(input(\"Enter a value for n: \"))\n",
    "summation= sum([i + 3 for i in range(n) if i % 2 != 0])\n",
    "print(f\"Sum: {summation}\")\n"
   ]
  },
  {
   "cell_type": "code",
   "execution_count": 23,
   "id": "880e0e39",
   "metadata": {},
   "outputs": [
    {
     "name": "stdout",
     "output_type": "stream",
     "text": [
      "Enter a value for n: 5\n",
      "Product: 105\n"
     ]
    }
   ],
   "source": [
    "#ii)\n",
    "import math\n",
    "\n",
    "n = int(input(\"Enter a value for n: \"))\n",
    "z = math.prod([i + 3 for i in range(n) if i % 2 == 0])\n",
    "print(f\"Product: {z}\")\n",
    "\n"
   ]
  },
  {
   "cell_type": "code",
   "execution_count": 2,
   "id": "ee94edd3",
   "metadata": {},
   "outputs": [
    {
     "name": "stdout",
     "output_type": "stream",
     "text": [
      "Enter a number (0-6) for the day of the week: 5\n",
      "Weekend\n"
     ]
    }
   ],
   "source": [
    "#2. Write a program that reads the number of the day of the week (from 0 to 6). If it is a working day, then the program will write the name of the corresponding day. \n",
    "#Otherwise, it will write the word \"Weekend\".\n",
    "\n",
    "n = int(input(\"Enter a number (0-6) for the day of the week: \"))\n",
    "days = [\"Monday\", \"Tuesday\", \"Wednesday\", \"Thursday\", \"Friday\", \"Saturday\", \"Sunday\"]\n",
    "\n",
    "if n < 4 :\n",
    "    print(f\"It's a working day: {days[n]}\")\n",
    "else:\n",
    "    print(\"Weekend\")\n",
    "\n"
   ]
  },
  {
   "cell_type": "code",
   "execution_count": 34,
   "id": "4d5031a7",
   "metadata": {
    "scrolled": true
   },
   "outputs": [
    {
     "name": "stdout",
     "output_type": "stream",
     "text": [
      "Enter the month number (0-11): 1\n",
      "The month has 28 days.\n"
     ]
    }
   ],
   "source": [
    "#3.Make a program that, given a month number (from 0 to 11), indicates how many days it\n",
    "#has (28, 30 or 31), ignoring the leap years.#\n",
    "\n",
    "month = int(input(\"Enter the month number (0-11): \"))\n",
    "days = [31, 28, 31, 30, 31, 30, 31, 31, 30, 31, 30, 31]\n",
    "\n",
    "print(f\"The month has {days[month]} days.\")\n"
   ]
  },
  {
   "cell_type": "code",
   "execution_count": 39,
   "id": "0fb1f6ab",
   "metadata": {},
   "outputs": [
    {
     "name": "stdout",
     "output_type": "stream",
     "text": [
      "Cyuzuzo Yvette\n",
      "Cyuzuzo Yvette\n",
      "Cyuzuzo Yvette\n"
     ]
    }
   ],
   "source": [
    "#4.Write two versions of python code that displays your name 3 times. One version with a\n",
    "#\"for loop\" and another version with a \"while loop\".\n",
    "\n",
    "i = 0\n",
    "for i in range(3):\n",
    "    print(\"Cyuzuzo Yvette\")\n"
   ]
  },
  {
   "cell_type": "code",
   "execution_count": 38,
   "id": "42281e3c",
   "metadata": {},
   "outputs": [
    {
     "name": "stdout",
     "output_type": "stream",
     "text": [
      "Cyuzuzo Yvette\n",
      "Cyuzuzo Yvette\n",
      "Cyuzuzo Yvette\n"
     ]
    }
   ],
   "source": [
    "i = 0\n",
    "while i < 3:\n",
    "    print(\"Cyuzuzo Yvette\")\n",
    "    i += 1\n"
   ]
  },
  {
   "cell_type": "code",
   "execution_count": 61,
   "id": "eb25df66",
   "metadata": {},
   "outputs": [
    {
     "name": "stdout",
     "output_type": "stream",
     "text": [
      "enter a value of a0:1\n",
      "enter a value of a1:2\n",
      "First 15 Fibonacci terms: [1, 2, 3, 5, 8, 13, 21, 34, 55, 89, 144, 233, 377, 610, 987, 1597, 2584]\n"
     ]
    }
   ],
   "source": [
    "#5.Given two numbers a0 and a1, the Fibonacci sequence they generate is constructed from\n",
    "#the recursion formula an+1 = an + an−1. Calculate the first 15 terms of a Fibonacci\n",
    "#sequence, asking the user the initial values.\n",
    "\n",
    "a0 = int(input(\"enter a value of a0:\"))\n",
    "a1= int(input(\"enter a value of a1:\"))\n",
    "\n",
    "fibonacci = [a0, a1]\n",
    "for i in range(15):\n",
    "    fibonacci.append(fibonacci[-1] + fibonacci[-2])\n",
    "\n",
    "print(f\"First 15 Fibonacci terms: {fibonacci}\")"
   ]
  },
  {
   "cell_type": "code",
   "execution_count": 69,
   "id": "23d03471",
   "metadata": {},
   "outputs": [
    {
     "name": "stdout",
     "output_type": "stream",
     "text": [
      "enter a year1800\n",
      "1800 is not a leap year\n"
     ]
    }
   ],
   "source": [
    "#7. a) Write python code to determine whether or not a year is a leap year. Be sure you\n",
    "#know what a leap year is.\n",
    "\n",
    "n = int(input(\"enter a year\"))\n",
    "if (n % 4 == 0 and n % 100 != 0) or (n % 400 == 0):\n",
    "    print(f\"{n} is a leap year.\")\n",
    "else:\n",
    "    print(f\"{n} is not a leap year\")"
   ]
  },
  {
   "cell_type": "code",
   "execution_count": 53,
   "id": "238363b1",
   "metadata": {},
   "outputs": [
    {
     "name": "stdout",
     "output_type": "stream",
     "text": [
      "enter a year2000\n",
      "2000 is a leap year:True\n"
     ]
    }
   ],
   "source": [
    "n = int(input(\"enter a year\"))\n",
    "z = (n % 4 == 0) and (n % 100 != 0) or (n % 400 == 0)\n",
    "print(f\"{n} is a leap year:{z}\")"
   ]
  },
  {
   "cell_type": "code",
   "execution_count": 77,
   "id": "20442534",
   "metadata": {},
   "outputs": [
    {
     "name": "stdout",
     "output_type": "stream",
     "text": [
      "[1, 4, 9, 16, 25, 36, 49, 64, 81]\n",
      "285\n"
     ]
    }
   ],
   "source": [
    "#8.a) Write python code that computes the sum of the square of the first n natural numbers.\n",
    "#One version with a \"for loop\" and another version with a \"while loop\".\n",
    "\n",
    "squares = [x**2 for x in range(1, 10)]\n",
    "print(squares)\n",
    "summation= sum(squares)\n",
    "print(summation)"
   ]
  },
  {
   "cell_type": "code",
   "execution_count": 78,
   "id": "3924e33b",
   "metadata": {},
   "outputs": [
    {
     "name": "stdout",
     "output_type": "stream",
     "text": [
      "Sum of squares: 385\n"
     ]
    }
   ],
   "source": [
    "#for while loop\n",
    "\n",
    "n = 10\n",
    "summation = 0\n",
    "i = 1\n",
    "while i <= n:\n",
    "    summation += i ** 2\n",
    "    i += 1\n",
    "print(f\"Sum of squares: {sum_of_squares}\")\n"
   ]
  },
  {
   "cell_type": "code",
   "execution_count": 5,
   "id": "15b9bc88",
   "metadata": {},
   "outputs": [
    {
     "name": "stdout",
     "output_type": "stream",
     "text": [
      "enter a number5\n",
      "The smallest n for 5 is: 2\n"
     ]
    }
   ],
   "source": [
    "#Write python code that prints, for a natural number M, the smallest natural number n such that 1 2 + 22 +· ·+n 2 ≥ M. One version with a \"for loop\" and another version with a \"while loop\"\n",
    "\n",
    "M = int(input(\"enter a number\"))\n",
    "total_sum = 0\n",
    "\n",
    "for n in range(1, M+1):\n",
    "    total_sum += n**2\n",
    "    if total_sum >= M:\n",
    "        break\n",
    "\n",
    "print(f\"The smallest n for {M} is: {n}\")"
   ]
  },
  {
   "cell_type": "code",
   "execution_count": 72,
   "id": "12ae705e",
   "metadata": {},
   "outputs": [
    {
     "name": "stdout",
     "output_type": "stream",
     "text": [
      "Enter a number: 5\n",
      "Divisors of 5: [1, 5]\n"
     ]
    }
   ],
   "source": [
    "#9.a Write python code that prints all the divisors of a given natural number.\n",
    "\n",
    "num = int(input(\"Enter a number: \"))\n",
    "divisors = [i for i in range(1, num+1) if num % i == 0]\n",
    "print(f\"Divisors of {num}: {divisors}\")\n"
   ]
  },
  {
   "cell_type": "code",
   "execution_count": 87,
   "id": "9e49437f",
   "metadata": {},
   "outputs": [
    {
     "name": "stdout",
     "output_type": "stream",
     "text": [
      "Enter a number: 6\n",
      "Prime factors: [2, 3]\n"
     ]
    }
   ],
   "source": [
    "#b) Read an integer number input by the user and calculate its prime factors. This will\n",
    "#just be some of its divisors.\n",
    "\n",
    "num = int(input(\"Enter a number: \"))\n",
    "i = 2\n",
    "p = []\n",
    "\n",
    "while i <= num:\n",
    "    if num % i == 0:\n",
    "        p.append(i)\n",
    "        num //= i\n",
    "    else:\n",
    "        i += 1\n",
    "\n",
    "print(f\"Prime factors: {p}\")"
   ]
  },
  {
   "cell_type": "code",
   "execution_count": 102,
   "id": "ccecea55",
   "metadata": {
    "scrolled": true
   },
   "outputs": [
    {
     "name": "stdout",
     "output_type": "stream",
     "text": [
      "Enter an number between 0 and 9: 2\n",
      "Enter the maximum multiplier N: : 10\n",
      "\n",
      "\n",
      "2 * 1 = 2\n",
      "2 * 2 = 4\n",
      "2 * 3 = 6\n",
      "2 * 4 = 8\n",
      "2 * 5 = 10\n",
      "2 * 6 = 12\n",
      "2 * 7 = 14\n",
      "2 * 8 = 16\n",
      "2 * 9 = 18\n",
      "2 * 10 = 20\n"
     ]
    }
   ],
   "source": [
    "#10.Read an integer number between n 0 and 9 and print its multiplication table up to N\n",
    "#where N is another another natural number read by the program.\n",
    "\n",
    "while True:\n",
    "    n = int(input(\"Enter an number between 0 and 9: \"))\n",
    "    if 0 <= n <= 9:\n",
    "        break\n",
    "    else:\n",
    "        print(\"Please enter a valid number between 0 and 9.\")\n",
    "\n",
    "N = int(input(\"Enter the maximum multiplier N: : \"))\n",
    "print(\"\\n\")\n",
    "\n",
    "for i in range(1, N+1):\n",
    "    \n",
    "    print(f\"{n} * {i} = {n * i}\")"
   ]
  },
  {
   "cell_type": "code",
   "execution_count": 98,
   "id": "27d4c69a",
   "metadata": {},
   "outputs": [
    {
     "name": "stdout",
     "output_type": "stream",
     "text": [
      "Multiples between 0 and 40: [0, 3, 6, 7, 9, 11, 12, 14, 15, 18, 21, 22, 24, 27, 28, 30, 33, 35, 36, 39]\n"
     ]
    }
   ],
   "source": [
    "#11.Write a program that prints all the numbers between 0 and 40 that are multiples of 3, 7 or 11\n",
    "\n",
    "multiples = [i for i in range(41) if i % 3 == 0 or i % 7 == 0 or i % 11 == 0]\n",
    "print(f\"Multiples between 0 and 40: {multiples}\")\n"
   ]
  },
  {
   "cell_type": "code",
   "execution_count": 103,
   "id": "3a6907a5",
   "metadata": {},
   "outputs": [
    {
     "name": "stdout",
     "output_type": "stream",
     "text": [
      "Enter a floating point number: 4.3\n",
      "Floor of 4.3 is 4\n"
     ]
    }
   ],
   "source": [
    "#12.Write python code that prints the floor of a float x. Recall that the floor of a float x is the\n",
    "#largest integer value less than or equal to x, i.e. if E[x] is the floor of x, then it satisfies,\n",
    "#E[x] = 1 + E[x − 1]\n",
    "\n",
    "x = float(input(\"Enter a floating point number: \"))\n",
    "floor_x = int(x // 1)\n",
    "print(f\"Floor of {x} is {floor_x}\")"
   ]
  },
  {
   "cell_type": "code",
   "execution_count": null,
   "id": "9f68eda0",
   "metadata": {},
   "outputs": [],
   "source": []
  }
 ],
 "metadata": {
  "kernelspec": {
   "display_name": "Python 3",
   "language": "python",
   "name": "python3"
  },
  "language_info": {
   "codemirror_mode": {
    "name": "ipython",
    "version": 3
   },
   "file_extension": ".py",
   "mimetype": "text/x-python",
   "name": "python",
   "nbconvert_exporter": "python",
   "pygments_lexer": "ipython3",
   "version": "3.9.2"
  }
 },
 "nbformat": 4,
 "nbformat_minor": 5
}
