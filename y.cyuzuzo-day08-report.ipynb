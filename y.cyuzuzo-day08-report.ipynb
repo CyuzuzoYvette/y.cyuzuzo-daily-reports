{
 "cells": [
  {
   "cell_type": "code",
   "execution_count": 6,
   "id": "97415005",
   "metadata": {},
   "outputs": [
    {
     "name": "stdout",
     "output_type": "stream",
     "text": [
      "enter value of a: 3\n",
      "enter value of b: 7\n",
      "7 is maximum\n"
     ]
    }
   ],
   "source": [
    "#Create a function find_max() that accepts two numeric inputs and returns the greater value. Avoid using the built-in max() function.\n",
    "\n",
    "def find_max(a,b):\n",
    "    if a>b:\n",
    "        print(f\"{a} is maximum\")\n",
    "    elif b>a:\n",
    "        print(f\"{b} is maximum\")\n",
    "    else:\n",
    "        print(f\"numbers are equal\")\n",
    "c = int(input(\"enter value of a: \"))\n",
    "d = int(input(\"enter value of b: \"))\n",
    "find_max(c,d)\n",
    "    "
   ]
  },
  {
   "cell_type": "code",
   "execution_count": 3,
   "id": "3385027a",
   "metadata": {},
   "outputs": [
    {
     "name": "stdout",
     "output_type": "stream",
     "text": [
      "6 is maximum value\n"
     ]
    }
   ],
   "source": [
    "#Develop a function find_max_of_three() to find the maximum among three given numbers.\n",
    "\n",
    "def find_max_of_three():\n",
    "    a = 1\n",
    "    b = 6\n",
    "    c = 3\n",
    "    if a>b and a>c:\n",
    "        print(a,\"is maximum value\")\n",
    "    elif b>a and b>c:\n",
    "        print(b,\"is maximum value\")\n",
    "    elif c>a and c>b:\n",
    "        print(c,\"is maximum value\")\n",
    "    else:\n",
    "        print(\"you are out of topic\")\n",
    "        \n",
    "find_max_of_three()"
   ]
  },
  {
   "cell_type": "code",
   "execution_count": 1,
   "id": "d75f13c9",
   "metadata": {},
   "outputs": [
    {
     "name": "stdout",
     "output_type": "stream",
     "text": [
      "Length of the list: 5\n"
     ]
    }
   ],
   "source": [
    "#Write a function to manually calculate the length of a given list or string without using len().\n",
    "\n",
    "def length_list(li):\n",
    "    count = 0\n",
    "    for item in li:\n",
    "        count += 1\n",
    "    return count\n",
    "\n",
    "li = [1, 3, 4, 8, 5]\n",
    "print(\"Length of the list:\", length_list(li))\n"
   ]
  },
  {
   "cell_type": "code",
   "execution_count": 26,
   "id": "deaa77d0",
   "metadata": {},
   "outputs": [
    {
     "name": "stdout",
     "output_type": "stream",
     "text": [
      "Enter any character: r\n",
      "entered character is not vowel\n"
     ]
    }
   ],
   "source": [
    "#Implement a function that checks if a given character is a vowel (a, e, i, o, u).\n",
    "\n",
    "def vowel(chara):\n",
    "    if chara in ['a', 'e', 'i', 'o', 'u', 'A', 'E', 'I', 'O', 'U']:\n",
    "       print(\"entered character is vowel\")\n",
    "    else:\n",
    "        print(\"entered character is not vowel\") \n",
    "cha = input(\"Enter any character: \")\n",
    "vowel(cha)\n",
    "    "
   ]
  },
  {
   "cell_type": "code",
   "execution_count": 23,
   "id": "6af39b15",
   "metadata": {},
   "outputs": [
    {
     "name": "stdout",
     "output_type": "stream",
     "text": [
      "Sum of elements: 10\n"
     ]
    }
   ],
   "source": [
    "#Create sum_elements() and product_elements() functions to sum and multiply all elements in a list, respectively.\n",
    "\n",
    "def summation(n):\n",
    "    total = 0  \n",
    "    for i in n:  \n",
    "        total += i \n",
    "    return total\n",
    "my_list = [1, 2, 3, 4]\n",
    "print(\"Sum of elements:\", summation(my_list))"
   ]
  },
  {
   "cell_type": "code",
   "execution_count": 22,
   "id": "7d59855a",
   "metadata": {},
   "outputs": [
    {
     "name": "stdout",
     "output_type": "stream",
     "text": [
      "Product of elements: 24\n"
     ]
    }
   ],
   "source": [
    "#for product\n",
    "\n",
    "def pro(n):\n",
    "    product = 1 \n",
    "    for i in n:  \n",
    "        product *= i  \n",
    "    return product  \n",
    "my_list = [1, 2, 3, 4]\n",
    "print(\"Product of elements:\", pro(my_list))"
   ]
  },
  {
   "cell_type": "code",
   "execution_count": 13,
   "id": "50c7b0c4",
   "metadata": {},
   "outputs": [
    {
     "name": "stdout",
     "output_type": "stream",
     "text": [
      "enter any string: Cyuzuzo\n",
      "the reversed string:  ozuzuyC\n"
     ]
    }
   ],
   "source": [
    "#Define a function reverse_string() to reverse the characters in a given string.\n",
    "\n",
    "def reverse_string(s):\n",
    "    return s[::-1]\n",
    "a = input(\"enter any string: \")\n",
    "reversed_string = reverse_string(a)\n",
    "print(\"the reversed string: \", reversed_string)\n"
   ]
  },
  {
   "cell_type": "code",
   "execution_count": 19,
   "id": "d3a925d2",
   "metadata": {},
   "outputs": [
    {
     "name": "stdout",
     "output_type": "stream",
     "text": [
      "The longest word is: strawberry\n"
     ]
    }
   ],
   "source": [
    "#Implement longest_word() to find the longest word in a list.\n",
    "\n",
    "def longest_word(li):\n",
    "    longest = \"\" \n",
    "\n",
    "    for i in li:  \n",
    "        if len(i) > len(longest): \n",
    "            longest = i \n",
    "    return longest \n",
    "li_list = [\"apple\", \"banana\", \"strawberry\", \"cherry\"]\n",
    "print(\"The longest word is:\", longest_word(li_list))"
   ]
  },
  {
   "cell_type": "code",
   "execution_count": 15,
   "id": "d6b2a2f6",
   "metadata": {},
   "outputs": [
    {
     "name": "stdout",
     "output_type": "stream",
     "text": [
      "ccccc\n"
     ]
    }
   ],
   "source": [
    "#Implement repeat_char() that generates a string with a specified character repeated n times.\n",
    "\n",
    "def repeat_char(char, n):\n",
    "    result = \"\"  \n",
    "    for i in range(n):  \n",
    "        result += char  \n",
    "    return result \n",
    "print(repeat_char('c', 5))"
   ]
  },
  {
   "cell_type": "code",
   "execution_count": null,
   "id": "9c17def1",
   "metadata": {},
   "outputs": [],
   "source": []
  }
 ],
 "metadata": {
  "kernelspec": {
   "display_name": "Python 3",
   "language": "python",
   "name": "python3"
  },
  "language_info": {
   "codemirror_mode": {
    "name": "ipython",
    "version": 3
   },
   "file_extension": ".py",
   "mimetype": "text/x-python",
   "name": "python",
   "nbconvert_exporter": "python",
   "pygments_lexer": "ipython3",
   "version": "3.9.2"
  }
 },
 "nbformat": 4,
 "nbformat_minor": 5
}
